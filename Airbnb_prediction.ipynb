{
  "nbformat": 4,
  "nbformat_minor": 0,
  "metadata": {
    "colab": {
      "name": "Airbnb_prediction.ipynb",
      "provenance": [],
      "collapsed_sections": []
    },
    "kernelspec": {
      "name": "python3",
      "display_name": "Python 3"
    }
  },
  "cells": [
    {
      "cell_type": "code",
      "metadata": {
        "id": "xvzKVQPGe_O7"
      },
      "source": [
        "#importing the necessary libraries\n",
        "import pandas as pd\n",
        "import numpy as np"
      ],
      "execution_count": 48,
      "outputs": []
    },
    {
      "cell_type": "code",
      "metadata": {
        "colab": {
          "base_uri": "https://localhost:8080/",
          "height": 411
        },
        "id": "_U6IJsKgfEcn",
        "outputId": "7f40e468-3c2b-453b-a454-c1896f42ac52"
      },
      "source": [
        "#file reading\n",
        "data=pd.read_csv('https://raw.githubusercontent.com/seyidovfarhad/airbnb_price_prediction/main/AB_NYC_2019.csv')\n",
        "data.head()"
      ],
      "execution_count": 49,
      "outputs": [
        {
          "output_type": "execute_result",
          "data": {
            "text/html": [
              "<div>\n",
              "<style scoped>\n",
              "    .dataframe tbody tr th:only-of-type {\n",
              "        vertical-align: middle;\n",
              "    }\n",
              "\n",
              "    .dataframe tbody tr th {\n",
              "        vertical-align: top;\n",
              "    }\n",
              "\n",
              "    .dataframe thead th {\n",
              "        text-align: right;\n",
              "    }\n",
              "</style>\n",
              "<table border=\"1\" class=\"dataframe\">\n",
              "  <thead>\n",
              "    <tr style=\"text-align: right;\">\n",
              "      <th></th>\n",
              "      <th>id</th>\n",
              "      <th>name</th>\n",
              "      <th>host_id</th>\n",
              "      <th>host_name</th>\n",
              "      <th>neighbourhood_group</th>\n",
              "      <th>neighbourhood</th>\n",
              "      <th>latitude</th>\n",
              "      <th>longitude</th>\n",
              "      <th>room_type</th>\n",
              "      <th>price</th>\n",
              "      <th>minimum_nights</th>\n",
              "      <th>number_of_reviews</th>\n",
              "      <th>last_review</th>\n",
              "      <th>reviews_per_month</th>\n",
              "      <th>calculated_host_listings_count</th>\n",
              "      <th>availability_365</th>\n",
              "    </tr>\n",
              "  </thead>\n",
              "  <tbody>\n",
              "    <tr>\n",
              "      <th>0</th>\n",
              "      <td>2539</td>\n",
              "      <td>Clean &amp; quiet apt home by the park</td>\n",
              "      <td>2787</td>\n",
              "      <td>John</td>\n",
              "      <td>Brooklyn</td>\n",
              "      <td>Kensington</td>\n",
              "      <td>40.64749</td>\n",
              "      <td>-73.97237</td>\n",
              "      <td>Private room</td>\n",
              "      <td>149</td>\n",
              "      <td>1</td>\n",
              "      <td>9</td>\n",
              "      <td>2018-10-19</td>\n",
              "      <td>0.21</td>\n",
              "      <td>6</td>\n",
              "      <td>365</td>\n",
              "    </tr>\n",
              "    <tr>\n",
              "      <th>1</th>\n",
              "      <td>2595</td>\n",
              "      <td>Skylit Midtown Castle</td>\n",
              "      <td>2845</td>\n",
              "      <td>Jennifer</td>\n",
              "      <td>Manhattan</td>\n",
              "      <td>Midtown</td>\n",
              "      <td>40.75362</td>\n",
              "      <td>-73.98377</td>\n",
              "      <td>Entire home/apt</td>\n",
              "      <td>225</td>\n",
              "      <td>1</td>\n",
              "      <td>45</td>\n",
              "      <td>2019-05-21</td>\n",
              "      <td>0.38</td>\n",
              "      <td>2</td>\n",
              "      <td>355</td>\n",
              "    </tr>\n",
              "    <tr>\n",
              "      <th>2</th>\n",
              "      <td>3647</td>\n",
              "      <td>THE VILLAGE OF HARLEM....NEW YORK !</td>\n",
              "      <td>4632</td>\n",
              "      <td>Elisabeth</td>\n",
              "      <td>Manhattan</td>\n",
              "      <td>Harlem</td>\n",
              "      <td>40.80902</td>\n",
              "      <td>-73.94190</td>\n",
              "      <td>Private room</td>\n",
              "      <td>150</td>\n",
              "      <td>3</td>\n",
              "      <td>0</td>\n",
              "      <td>NaN</td>\n",
              "      <td>NaN</td>\n",
              "      <td>1</td>\n",
              "      <td>365</td>\n",
              "    </tr>\n",
              "    <tr>\n",
              "      <th>3</th>\n",
              "      <td>3831</td>\n",
              "      <td>Cozy Entire Floor of Brownstone</td>\n",
              "      <td>4869</td>\n",
              "      <td>LisaRoxanne</td>\n",
              "      <td>Brooklyn</td>\n",
              "      <td>Clinton Hill</td>\n",
              "      <td>40.68514</td>\n",
              "      <td>-73.95976</td>\n",
              "      <td>Entire home/apt</td>\n",
              "      <td>89</td>\n",
              "      <td>1</td>\n",
              "      <td>270</td>\n",
              "      <td>2019-07-05</td>\n",
              "      <td>4.64</td>\n",
              "      <td>1</td>\n",
              "      <td>194</td>\n",
              "    </tr>\n",
              "    <tr>\n",
              "      <th>4</th>\n",
              "      <td>5022</td>\n",
              "      <td>Entire Apt: Spacious Studio/Loft by central park</td>\n",
              "      <td>7192</td>\n",
              "      <td>Laura</td>\n",
              "      <td>Manhattan</td>\n",
              "      <td>East Harlem</td>\n",
              "      <td>40.79851</td>\n",
              "      <td>-73.94399</td>\n",
              "      <td>Entire home/apt</td>\n",
              "      <td>80</td>\n",
              "      <td>10</td>\n",
              "      <td>9</td>\n",
              "      <td>2018-11-19</td>\n",
              "      <td>0.10</td>\n",
              "      <td>1</td>\n",
              "      <td>0</td>\n",
              "    </tr>\n",
              "  </tbody>\n",
              "</table>\n",
              "</div>"
            ],
            "text/plain": [
              "     id  ... availability_365\n",
              "0  2539  ...              365\n",
              "1  2595  ...              355\n",
              "2  3647  ...              365\n",
              "3  3831  ...              194\n",
              "4  5022  ...                0\n",
              "\n",
              "[5 rows x 16 columns]"
            ]
          },
          "metadata": {
            "tags": []
          },
          "execution_count": 49
        }
      ]
    },
    {
      "cell_type": "code",
      "metadata": {
        "colab": {
          "base_uri": "https://localhost:8080/"
        },
        "id": "-AwbovTIfbb3",
        "outputId": "f802da32-eae8-43b1-d358-ec749f67e1cb"
      },
      "source": [
        "#getting information about dataset\n",
        "data.info()"
      ],
      "execution_count": 50,
      "outputs": [
        {
          "output_type": "stream",
          "text": [
            "<class 'pandas.core.frame.DataFrame'>\n",
            "RangeIndex: 48895 entries, 0 to 48894\n",
            "Data columns (total 16 columns):\n",
            " #   Column                          Non-Null Count  Dtype  \n",
            "---  ------                          --------------  -----  \n",
            " 0   id                              48895 non-null  int64  \n",
            " 1   name                            48879 non-null  object \n",
            " 2   host_id                         48895 non-null  int64  \n",
            " 3   host_name                       48874 non-null  object \n",
            " 4   neighbourhood_group             48895 non-null  object \n",
            " 5   neighbourhood                   48895 non-null  object \n",
            " 6   latitude                        48895 non-null  float64\n",
            " 7   longitude                       48895 non-null  float64\n",
            " 8   room_type                       48895 non-null  object \n",
            " 9   price                           48895 non-null  int64  \n",
            " 10  minimum_nights                  48895 non-null  int64  \n",
            " 11  number_of_reviews               48895 non-null  int64  \n",
            " 12  last_review                     38843 non-null  object \n",
            " 13  reviews_per_month               38843 non-null  float64\n",
            " 14  calculated_host_listings_count  48895 non-null  int64  \n",
            " 15  availability_365                48895 non-null  int64  \n",
            "dtypes: float64(3), int64(7), object(6)\n",
            "memory usage: 6.0+ MB\n"
          ],
          "name": "stdout"
        }
      ]
    },
    {
      "cell_type": "code",
      "metadata": {
        "colab": {
          "base_uri": "https://localhost:8080/"
        },
        "id": "sbYIe4yPlWAL",
        "outputId": "7fa443b4-a536-4944-e9bd-e8f4e1790401"
      },
      "source": [
        "#checking for missing values\n",
        "data.isnull().sum()"
      ],
      "execution_count": 51,
      "outputs": [
        {
          "output_type": "execute_result",
          "data": {
            "text/plain": [
              "id                                    0\n",
              "name                                 16\n",
              "host_id                               0\n",
              "host_name                            21\n",
              "neighbourhood_group                   0\n",
              "neighbourhood                         0\n",
              "latitude                              0\n",
              "longitude                             0\n",
              "room_type                             0\n",
              "price                                 0\n",
              "minimum_nights                        0\n",
              "number_of_reviews                     0\n",
              "last_review                       10052\n",
              "reviews_per_month                 10052\n",
              "calculated_host_listings_count        0\n",
              "availability_365                      0\n",
              "dtype: int64"
            ]
          },
          "metadata": {
            "tags": []
          },
          "execution_count": 51
        }
      ]
    },
    {
      "cell_type": "code",
      "metadata": {
        "colab": {
          "base_uri": "https://localhost:8080/"
        },
        "id": "_0xdVFUgla9B",
        "outputId": "2b347048-2436-42bb-f02a-556b02fad488"
      },
      "source": [
        "#dropping unnecessary features\n",
        "data.drop(['id', 'name', 'host_id', 'host_name', 'latitude', 'longitude', 'last_review'], axis=1, inplace=True)\n",
        "data.columns"
      ],
      "execution_count": 52,
      "outputs": [
        {
          "output_type": "execute_result",
          "data": {
            "text/plain": [
              "Index(['neighbourhood_group', 'neighbourhood', 'room_type', 'price',\n",
              "       'minimum_nights', 'number_of_reviews', 'reviews_per_month',\n",
              "       'calculated_host_listings_count', 'availability_365'],\n",
              "      dtype='object')"
            ]
          },
          "metadata": {
            "tags": []
          },
          "execution_count": 52
        }
      ]
    },
    {
      "cell_type": "code",
      "metadata": {
        "colab": {
          "base_uri": "https://localhost:8080/"
        },
        "id": "yJKJzSe3leB4",
        "outputId": "3ff571f8-8079-4dff-bdc9-1c2d1d2af728"
      },
      "source": [
        "#filling other missing values with zero\n",
        "data=data.fillna(0)\n",
        "data.isnull().sum()"
      ],
      "execution_count": 53,
      "outputs": [
        {
          "output_type": "execute_result",
          "data": {
            "text/plain": [
              "neighbourhood_group               0\n",
              "neighbourhood                     0\n",
              "room_type                         0\n",
              "price                             0\n",
              "minimum_nights                    0\n",
              "number_of_reviews                 0\n",
              "reviews_per_month                 0\n",
              "calculated_host_listings_count    0\n",
              "availability_365                  0\n",
              "dtype: int64"
            ]
          },
          "metadata": {
            "tags": []
          },
          "execution_count": 53
        }
      ]
    },
    {
      "cell_type": "code",
      "metadata": {
        "colab": {
          "base_uri": "https://localhost:8080/",
          "height": 297
        },
        "id": "m2kJrJ_vlkhA",
        "outputId": "decf4d9b-2392-4cab-bf05-472477294038"
      },
      "source": [
        "#statistic about numerical features \n",
        "data.describe()"
      ],
      "execution_count": 54,
      "outputs": [
        {
          "output_type": "execute_result",
          "data": {
            "text/html": [
              "<div>\n",
              "<style scoped>\n",
              "    .dataframe tbody tr th:only-of-type {\n",
              "        vertical-align: middle;\n",
              "    }\n",
              "\n",
              "    .dataframe tbody tr th {\n",
              "        vertical-align: top;\n",
              "    }\n",
              "\n",
              "    .dataframe thead th {\n",
              "        text-align: right;\n",
              "    }\n",
              "</style>\n",
              "<table border=\"1\" class=\"dataframe\">\n",
              "  <thead>\n",
              "    <tr style=\"text-align: right;\">\n",
              "      <th></th>\n",
              "      <th>price</th>\n",
              "      <th>minimum_nights</th>\n",
              "      <th>number_of_reviews</th>\n",
              "      <th>reviews_per_month</th>\n",
              "      <th>calculated_host_listings_count</th>\n",
              "      <th>availability_365</th>\n",
              "    </tr>\n",
              "  </thead>\n",
              "  <tbody>\n",
              "    <tr>\n",
              "      <th>count</th>\n",
              "      <td>48895.000000</td>\n",
              "      <td>48895.000000</td>\n",
              "      <td>48895.000000</td>\n",
              "      <td>48895.000000</td>\n",
              "      <td>48895.000000</td>\n",
              "      <td>48895.000000</td>\n",
              "    </tr>\n",
              "    <tr>\n",
              "      <th>mean</th>\n",
              "      <td>152.720687</td>\n",
              "      <td>7.029962</td>\n",
              "      <td>23.274466</td>\n",
              "      <td>1.090910</td>\n",
              "      <td>7.143982</td>\n",
              "      <td>112.781327</td>\n",
              "    </tr>\n",
              "    <tr>\n",
              "      <th>std</th>\n",
              "      <td>240.154170</td>\n",
              "      <td>20.510550</td>\n",
              "      <td>44.550582</td>\n",
              "      <td>1.597283</td>\n",
              "      <td>32.952519</td>\n",
              "      <td>131.622289</td>\n",
              "    </tr>\n",
              "    <tr>\n",
              "      <th>min</th>\n",
              "      <td>0.000000</td>\n",
              "      <td>1.000000</td>\n",
              "      <td>0.000000</td>\n",
              "      <td>0.000000</td>\n",
              "      <td>1.000000</td>\n",
              "      <td>0.000000</td>\n",
              "    </tr>\n",
              "    <tr>\n",
              "      <th>25%</th>\n",
              "      <td>69.000000</td>\n",
              "      <td>1.000000</td>\n",
              "      <td>1.000000</td>\n",
              "      <td>0.040000</td>\n",
              "      <td>1.000000</td>\n",
              "      <td>0.000000</td>\n",
              "    </tr>\n",
              "    <tr>\n",
              "      <th>50%</th>\n",
              "      <td>106.000000</td>\n",
              "      <td>3.000000</td>\n",
              "      <td>5.000000</td>\n",
              "      <td>0.370000</td>\n",
              "      <td>1.000000</td>\n",
              "      <td>45.000000</td>\n",
              "    </tr>\n",
              "    <tr>\n",
              "      <th>75%</th>\n",
              "      <td>175.000000</td>\n",
              "      <td>5.000000</td>\n",
              "      <td>24.000000</td>\n",
              "      <td>1.580000</td>\n",
              "      <td>2.000000</td>\n",
              "      <td>227.000000</td>\n",
              "    </tr>\n",
              "    <tr>\n",
              "      <th>max</th>\n",
              "      <td>10000.000000</td>\n",
              "      <td>1250.000000</td>\n",
              "      <td>629.000000</td>\n",
              "      <td>58.500000</td>\n",
              "      <td>327.000000</td>\n",
              "      <td>365.000000</td>\n",
              "    </tr>\n",
              "  </tbody>\n",
              "</table>\n",
              "</div>"
            ],
            "text/plain": [
              "              price  ...  availability_365\n",
              "count  48895.000000  ...      48895.000000\n",
              "mean     152.720687  ...        112.781327\n",
              "std      240.154170  ...        131.622289\n",
              "min        0.000000  ...          0.000000\n",
              "25%       69.000000  ...          0.000000\n",
              "50%      106.000000  ...         45.000000\n",
              "75%      175.000000  ...        227.000000\n",
              "max    10000.000000  ...        365.000000\n",
              "\n",
              "[8 rows x 6 columns]"
            ]
          },
          "metadata": {
            "tags": []
          },
          "execution_count": 54
        }
      ]
    },
    {
      "cell_type": "code",
      "metadata": {
        "id": "hiPv9QQBlpN6"
      },
      "source": [
        "#importing libraries for visualization\n",
        "import seaborn as sns\n",
        "import matplotlib.pyplot as plt"
      ],
      "execution_count": 55,
      "outputs": []
    },
    {
      "cell_type": "code",
      "metadata": {
        "colab": {
          "base_uri": "https://localhost:8080/",
          "height": 513
        },
        "id": "3VNZZYO2luT8",
        "outputId": "69794a4f-bbfe-44a2-e95c-4c403017bd9f"
      },
      "source": [
        "#price distribution vizualization\n",
        "fig = plt.figure(figsize=(10,7))\n",
        "sns.distplot(data['price'])"
      ],
      "execution_count": 56,
      "outputs": [
        {
          "output_type": "stream",
          "text": [
            "/usr/local/lib/python3.6/dist-packages/seaborn/distributions.py:2551: FutureWarning: `distplot` is a deprecated function and will be removed in a future version. Please adapt your code to use either `displot` (a figure-level function with similar flexibility) or `histplot` (an axes-level function for histograms).\n",
            "  warnings.warn(msg, FutureWarning)\n"
          ],
          "name": "stderr"
        },
        {
          "output_type": "execute_result",
          "data": {
            "text/plain": [
              "<matplotlib.axes._subplots.AxesSubplot at 0x7f886766e358>"
            ]
          },
          "metadata": {
            "tags": []
          },
          "execution_count": 56
        },
        {
          "output_type": "display_data",
          "data": {
            "image/png": "[encoded data removed]",
            "text/plain": [
              "<Figure size 720x504 with 1 Axes>"
            ]
          },
          "metadata": {
            "tags": [],
            "needs_background": "light"
          }
        }
      ]
    },
    {
      "cell_type": "code",
      "metadata": {
        "colab": {
          "base_uri": "https://localhost:8080/",
          "height": 513
        },
        "id": "osO5Cbf9lxaI",
        "outputId": "a90eb6a0-93a8-42ae-ce71-a46f73145d96"
      },
      "source": [
        "#deleting outliers in 'price'\n",
        "data=data[(data['price']>0) & (data['price']<=500)]\n",
        "fig = plt.figure(figsize=(10,7))\n",
        "sns.distplot(data['price'])"
      ],
      "execution_count": 57,
      "outputs": [
        {
          "output_type": "stream",
          "text": [
            "/usr/local/lib/python3.6/dist-packages/seaborn/distributions.py:2551: FutureWarning: `distplot` is a deprecated function and will be removed in a future version. Please adapt your code to use either `displot` (a figure-level function with similar flexibility) or `histplot` (an axes-level function for histograms).\n",
            "  warnings.warn(msg, FutureWarning)\n"
          ],
          "name": "stderr"
        },
        {
          "output_type": "execute_result",
          "data": {
            "text/plain": [
              "<matplotlib.axes._subplots.AxesSubplot at 0x7f88676d67f0>"
            ]
          },
          "metadata": {
            "tags": []
          },
          "execution_count": 57
        },
        {
          "output_type": "display_data",
          "data": {
            "image/png": "[encoded data removed]",
            "text/plain": [
              "<Figure size 720x504 with 1 Axes>"
            ]
          },
          "metadata": {
            "tags": [],
            "needs_background": "light"
          }
        }
      ]
    },
    {
      "cell_type": "code",
      "metadata": {
        "colab": {
          "base_uri": "https://localhost:8080/",
          "height": 69
        },
        "id": "k9mQPOpQl2MV",
        "outputId": "e069450b-73b0-443e-bae7-f70f74c00dc7"
      },
      "source": [
        "#deleting zero values in 'availability'\n",
        "data=data[data['availability_365']>0]\n",
        "data[data['availability_365']==0]"
      ],
      "execution_count": 58,
      "outputs": [
        {
          "output_type": "execute_result",
          "data": {
            "text/html": [
              "<div>\n",
              "<style scoped>\n",
              "    .dataframe tbody tr th:only-of-type {\n",
              "        vertical-align: middle;\n",
              "    }\n",
              "\n",
              "    .dataframe tbody tr th {\n",
              "        vertical-align: top;\n",
              "    }\n",
              "\n",
              "    .dataframe thead th {\n",
              "        text-align: right;\n",
              "    }\n",
              "</style>\n",
              "<table border=\"1\" class=\"dataframe\">\n",
              "  <thead>\n",
              "    <tr style=\"text-align: right;\">\n",
              "      <th></th>\n",
              "      <th>neighbourhood_group</th>\n",
              "      <th>neighbourhood</th>\n",
              "      <th>room_type</th>\n",
              "      <th>price</th>\n",
              "      <th>minimum_nights</th>\n",
              "      <th>number_of_reviews</th>\n",
              "      <th>reviews_per_month</th>\n",
              "      <th>calculated_host_listings_count</th>\n",
              "      <th>availability_365</th>\n",
              "    </tr>\n",
              "  </thead>\n",
              "  <tbody>\n",
              "  </tbody>\n",
              "</table>\n",
              "</div>"
            ],
            "text/plain": [
              "Empty DataFrame\n",
              "Columns: [neighbourhood_group, neighbourhood, room_type, price, minimum_nights, number_of_reviews, reviews_per_month, calculated_host_listings_count, availability_365]\n",
              "Index: []"
            ]
          },
          "metadata": {
            "tags": []
          },
          "execution_count": 58
        }
      ]
    },
    {
      "cell_type": "code",
      "metadata": {
        "colab": {
          "base_uri": "https://localhost:8080/",
          "height": 514
        },
        "id": "GcFMSz0jl7mZ",
        "outputId": "4134a0f5-b40e-44b4-fea0-95e7d6adc05b"
      },
      "source": [
        "#'minimum_night' feature distribution vizualization \n",
        "fig = plt.figure(figsize=(10,7))\n",
        "sns.distplot(data['minimum_nights'])"
      ],
      "execution_count": 59,
      "outputs": [
        {
          "output_type": "stream",
          "text": [
            "/usr/local/lib/python3.6/dist-packages/seaborn/distributions.py:2551: FutureWarning: `distplot` is a deprecated function and will be removed in a future version. Please adapt your code to use either `displot` (a figure-level function with similar flexibility) or `histplot` (an axes-level function for histograms).\n",
            "  warnings.warn(msg, FutureWarning)\n"
          ],
          "name": "stderr"
        },
        {
          "output_type": "execute_result",
          "data": {
            "text/plain": [
              "<matplotlib.axes._subplots.AxesSubplot at 0x7f8865859438>"
            ]
          },
          "metadata": {
            "tags": []
          },
          "execution_count": 59
        },
        {
          "output_type": "display_data",
          "data": {
            "image/png": "[encoded data removed]",
            "text/plain": [
              "<Figure size 720x504 with 1 Axes>"
            ]
          },
          "metadata": {
            "tags": [],
            "needs_background": "light"
          }
        }
      ]
    },
    {
      "cell_type": "code",
      "metadata": {
        "colab": {
          "base_uri": "https://localhost:8080/"
        },
        "id": "6MrO9_ILmBxg",
        "outputId": "f2796985-550c-4505-f1cc-f634b506ea86"
      },
      "source": [
        "#we must equate values greater than 30 to 30 because booking a seat longer than 30 days is not rational\n",
        "data.loc[data['minimum_nights'] > 30, ['minimum_nights']]=30\n",
        "data['minimum_nights'].unique()"
      ],
      "execution_count": 60,
      "outputs": [
        {
          "output_type": "execute_result",
          "data": {
            "text/plain": [
              "array([ 1,  3,  2,  5,  4,  7, 10, 14, 30, 29,  9,  6, 15,  8, 26, 28, 17,\n",
              "       21, 11, 25, 27, 18, 20, 19, 16, 13, 12, 24, 22, 23])"
            ]
          },
          "metadata": {
            "tags": []
          },
          "execution_count": 60
        }
      ]
    },
    {
      "cell_type": "code",
      "metadata": {
        "colab": {
          "base_uri": "https://localhost:8080/",
          "height": 514
        },
        "id": "OedQsXtrmNIi",
        "outputId": "2dc77a84-200c-4b00-9d45-8dbaab5dbf4a"
      },
      "source": [
        "#'minimum_nights' distrinution visualization\n",
        "fig = plt.figure(figsize=(10,7))\n",
        "sns.distplot(data['minimum_nights'])"
      ],
      "execution_count": 61,
      "outputs": [
        {
          "output_type": "stream",
          "text": [
            "/usr/local/lib/python3.6/dist-packages/seaborn/distributions.py:2551: FutureWarning: `distplot` is a deprecated function and will be removed in a future version. Please adapt your code to use either `displot` (a figure-level function with similar flexibility) or `histplot` (an axes-level function for histograms).\n",
            "  warnings.warn(msg, FutureWarning)\n"
          ],
          "name": "stderr"
        },
        {
          "output_type": "execute_result",
          "data": {
            "text/plain": [
              "<matplotlib.axes._subplots.AxesSubplot at 0x7f8865775ac8>"
            ]
          },
          "metadata": {
            "tags": []
          },
          "execution_count": 61
        },
        {
          "output_type": "display_data",
          "data": {
            "image/png": "[encoded data removed]",
            "text/plain": [
              "<Figure size 720x504 with 1 Axes>"
            ]
          },
          "metadata": {
            "tags": [],
            "needs_background": "light"
          }
        }
      ]
    },
    {
      "cell_type": "code",
      "metadata": {
        "colab": {
          "base_uri": "https://localhost:8080/",
          "height": 309
        },
        "id": "ZWDPyX6NmQP_",
        "outputId": "ffa1d30f-d320-4e65-9ed6-93bee33a7cd2"
      },
      "source": [
        "#dataset overview\n",
        "data.head()"
      ],
      "execution_count": 62,
      "outputs": [
        {
          "output_type": "execute_result",
          "data": {
            "text/html": [
              "<div>\n",
              "<style scoped>\n",
              "    .dataframe tbody tr th:only-of-type {\n",
              "        vertical-align: middle;\n",
              "    }\n",
              "\n",
              "    .dataframe tbody tr th {\n",
              "        vertical-align: top;\n",
              "    }\n",
              "\n",
              "    .dataframe thead th {\n",
              "        text-align: right;\n",
              "    }\n",
              "</style>\n",
              "<table border=\"1\" class=\"dataframe\">\n",
              "  <thead>\n",
              "    <tr style=\"text-align: right;\">\n",
              "      <th></th>\n",
              "      <th>neighbourhood_group</th>\n",
              "      <th>neighbourhood</th>\n",
              "      <th>room_type</th>\n",
              "      <th>price</th>\n",
              "      <th>minimum_nights</th>\n",
              "      <th>number_of_reviews</th>\n",
              "      <th>reviews_per_month</th>\n",
              "      <th>calculated_host_listings_count</th>\n",
              "      <th>availability_365</th>\n",
              "    </tr>\n",
              "  </thead>\n",
              "  <tbody>\n",
              "    <tr>\n",
              "      <th>0</th>\n",
              "      <td>Brooklyn</td>\n",
              "      <td>Kensington</td>\n",
              "      <td>Private room</td>\n",
              "      <td>149</td>\n",
              "      <td>1</td>\n",
              "      <td>9</td>\n",
              "      <td>0.21</td>\n",
              "      <td>6</td>\n",
              "      <td>365</td>\n",
              "    </tr>\n",
              "    <tr>\n",
              "      <th>1</th>\n",
              "      <td>Manhattan</td>\n",
              "      <td>Midtown</td>\n",
              "      <td>Entire home/apt</td>\n",
              "      <td>225</td>\n",
              "      <td>1</td>\n",
              "      <td>45</td>\n",
              "      <td>0.38</td>\n",
              "      <td>2</td>\n",
              "      <td>355</td>\n",
              "    </tr>\n",
              "    <tr>\n",
              "      <th>2</th>\n",
              "      <td>Manhattan</td>\n",
              "      <td>Harlem</td>\n",
              "      <td>Private room</td>\n",
              "      <td>150</td>\n",
              "      <td>3</td>\n",
              "      <td>0</td>\n",
              "      <td>0.00</td>\n",
              "      <td>1</td>\n",
              "      <td>365</td>\n",
              "    </tr>\n",
              "    <tr>\n",
              "      <th>3</th>\n",
              "      <td>Brooklyn</td>\n",
              "      <td>Clinton Hill</td>\n",
              "      <td>Entire home/apt</td>\n",
              "      <td>89</td>\n",
              "      <td>1</td>\n",
              "      <td>270</td>\n",
              "      <td>4.64</td>\n",
              "      <td>1</td>\n",
              "      <td>194</td>\n",
              "    </tr>\n",
              "    <tr>\n",
              "      <th>5</th>\n",
              "      <td>Manhattan</td>\n",
              "      <td>Murray Hill</td>\n",
              "      <td>Entire home/apt</td>\n",
              "      <td>200</td>\n",
              "      <td>3</td>\n",
              "      <td>74</td>\n",
              "      <td>0.59</td>\n",
              "      <td>1</td>\n",
              "      <td>129</td>\n",
              "    </tr>\n",
              "  </tbody>\n",
              "</table>\n",
              "</div>"
            ],
            "text/plain": [
              "  neighbourhood_group  ... availability_365\n",
              "0            Brooklyn  ...              365\n",
              "1           Manhattan  ...              355\n",
              "2           Manhattan  ...              365\n",
              "3            Brooklyn  ...              194\n",
              "5           Manhattan  ...              129\n",
              "\n",
              "[5 rows x 9 columns]"
            ]
          },
          "metadata": {
            "tags": []
          },
          "execution_count": 62
        }
      ]
    },
    {
      "cell_type": "code",
      "metadata": {
        "colab": {
          "base_uri": "https://localhost:8080/",
          "height": 556
        },
        "id": "ous0AT7ImVKH",
        "outputId": "e57cae54-0b8a-4583-90e0-927f896c5ef4"
      },
      "source": [
        "#vizualization of distribuiton of all numerical values\n",
        "fig = plt.figure(figsize=(14,14))\n",
        "ax1 = fig.add_subplot(3, 3, 1)\n",
        "ax2 = fig.add_subplot(3, 3, 2)\n",
        "ax3 = fig.add_subplot(3, 3, 3)\n",
        "ax4 = fig.add_subplot(3, 3, 4)\n",
        "ax5 = fig.add_subplot(3, 3, 5)\n",
        "ax6 = fig.add_subplot(3, 3, 6)\n",
        "\n",
        "ax1.hist(data['price'], bins=30)\n",
        "ax1.set_ylabel('count')\n",
        "ax1.set_title('price')\n",
        "\n",
        "ax2.hist(data['minimum_nights'], bins=30)\n",
        "ax2.set_ylabel('count')\n",
        "ax2.set_title('minimum_nights')\n",
        "\n",
        "ax3.hist(data['number_of_reviews'], bins=20)\n",
        "ax3.set_ylabel('count')\n",
        "ax3.set_title('number_of_reviews')\n",
        "\n",
        "ax4.hist(data['reviews_per_month'], bins=30)\n",
        "ax4.set_ylabel('count')\n",
        "ax4.set_title('reviews_per_month')\n",
        "\n",
        "ax5.hist(data['calculated_host_listings_count'], bins=30)\n",
        "ax5.set_ylabel('count')\n",
        "ax5.set_title('calculated_host_listings_count')\n",
        "\n",
        "ax6.hist(data['availability_365'], bins=30)\n",
        "ax6.set_ylabel('count')\n",
        "ax6.set_title('availability_365')\n",
        "\n",
        "plt.show()\n"
      ],
      "execution_count": 63,
      "outputs": [
        {
          "output_type": "display_data",
          "data": {
            "image/png": "[encoded data removed]",
            "text/plain": [
              "<Figure size 1008x1008 with 6 Axes>"
            ]
          },
          "metadata": {
            "tags": [],
            "needs_background": "light"
          }
        }
      ]
    },
    {
      "cell_type": "code",
      "metadata": {
        "colab": {
          "base_uri": "https://localhost:8080/"
        },
        "id": "tQxz82D9maU7",
        "outputId": "f66433da-00ae-4c8a-f987-73dee8c899ab"
      },
      "source": [
        "#types of features\n",
        "data.dtypes"
      ],
      "execution_count": 64,
      "outputs": [
        {
          "output_type": "execute_result",
          "data": {
            "text/plain": [
              "neighbourhood_group                object\n",
              "neighbourhood                      object\n",
              "room_type                          object\n",
              "price                               int64\n",
              "minimum_nights                      int64\n",
              "number_of_reviews                   int64\n",
              "reviews_per_month                 float64\n",
              "calculated_host_listings_count      int64\n",
              "availability_365                    int64\n",
              "dtype: object"
            ]
          },
          "metadata": {
            "tags": []
          },
          "execution_count": 64
        }
      ]
    },
    {
      "cell_type": "code",
      "metadata": {
        "id": "xWT08VRLmebn"
      },
      "source": [
        "#we must transform 'reviews_per_month' feature to int64\n",
        "data['reviews_per_month']=data['reviews_per_month'].astype('int64')"
      ],
      "execution_count": 65,
      "outputs": []
    },
    {
      "cell_type": "code",
      "metadata": {
        "id": "tSvMhqEtmh7y"
      },
      "source": [
        "#as we can see, the features are very skewed, so we have to carry out the log-transformation\n",
        "data[['price', 'minimum_nights', 'number_of_reviews', 'reviews_per_month',\n",
        "'calculated_host_listings_count', 'availability_365']]=np.log(data[['price', 'minimum_nights', 'number_of_reviews', 'reviews_per_month',\n",
        "'calculated_host_listings_count', 'availability_365']]+1)"
      ],
      "execution_count": 66,
      "outputs": []
    },
    {
      "cell_type": "code",
      "metadata": {
        "colab": {
          "base_uri": "https://localhost:8080/",
          "height": 309
        },
        "id": "SYVigaormkti",
        "outputId": "9937a50f-4be6-4894-a0ba-9cf80a569bbf"
      },
      "source": [
        "data.head()"
      ],
      "execution_count": 67,
      "outputs": [
        {
          "output_type": "execute_result",
          "data": {
            "text/html": [
              "<div>\n",
              "<style scoped>\n",
              "    .dataframe tbody tr th:only-of-type {\n",
              "        vertical-align: middle;\n",
              "    }\n",
              "\n",
              "    .dataframe tbody tr th {\n",
              "        vertical-align: top;\n",
              "    }\n",
              "\n",
              "    .dataframe thead th {\n",
              "        text-align: right;\n",
              "    }\n",
              "</style>\n",
              "<table border=\"1\" class=\"dataframe\">\n",
              "  <thead>\n",
              "    <tr style=\"text-align: right;\">\n",
              "      <th></th>\n",
              "      <th>neighbourhood_group</th>\n",
              "      <th>neighbourhood</th>\n",
              "      <th>room_type</th>\n",
              "      <th>price</th>\n",
              "      <th>minimum_nights</th>\n",
              "      <th>number_of_reviews</th>\n",
              "      <th>reviews_per_month</th>\n",
              "      <th>calculated_host_listings_count</th>\n",
              "      <th>availability_365</th>\n",
              "    </tr>\n",
              "  </thead>\n",
              "  <tbody>\n",
              "    <tr>\n",
              "      <th>0</th>\n",
              "      <td>Brooklyn</td>\n",
              "      <td>Kensington</td>\n",
              "      <td>Private room</td>\n",
              "      <td>5.010635</td>\n",
              "      <td>0.693147</td>\n",
              "      <td>2.302585</td>\n",
              "      <td>0.000000</td>\n",
              "      <td>1.945910</td>\n",
              "      <td>5.902633</td>\n",
              "    </tr>\n",
              "    <tr>\n",
              "      <th>1</th>\n",
              "      <td>Manhattan</td>\n",
              "      <td>Midtown</td>\n",
              "      <td>Entire home/apt</td>\n",
              "      <td>5.420535</td>\n",
              "      <td>0.693147</td>\n",
              "      <td>3.828641</td>\n",
              "      <td>0.000000</td>\n",
              "      <td>1.098612</td>\n",
              "      <td>5.874931</td>\n",
              "    </tr>\n",
              "    <tr>\n",
              "      <th>2</th>\n",
              "      <td>Manhattan</td>\n",
              "      <td>Harlem</td>\n",
              "      <td>Private room</td>\n",
              "      <td>5.017280</td>\n",
              "      <td>1.386294</td>\n",
              "      <td>0.000000</td>\n",
              "      <td>0.000000</td>\n",
              "      <td>0.693147</td>\n",
              "      <td>5.902633</td>\n",
              "    </tr>\n",
              "    <tr>\n",
              "      <th>3</th>\n",
              "      <td>Brooklyn</td>\n",
              "      <td>Clinton Hill</td>\n",
              "      <td>Entire home/apt</td>\n",
              "      <td>4.499810</td>\n",
              "      <td>0.693147</td>\n",
              "      <td>5.602119</td>\n",
              "      <td>1.609438</td>\n",
              "      <td>0.693147</td>\n",
              "      <td>5.273000</td>\n",
              "    </tr>\n",
              "    <tr>\n",
              "      <th>5</th>\n",
              "      <td>Manhattan</td>\n",
              "      <td>Murray Hill</td>\n",
              "      <td>Entire home/apt</td>\n",
              "      <td>5.303305</td>\n",
              "      <td>1.386294</td>\n",
              "      <td>4.317488</td>\n",
              "      <td>0.000000</td>\n",
              "      <td>0.693147</td>\n",
              "      <td>4.867534</td>\n",
              "    </tr>\n",
              "  </tbody>\n",
              "</table>\n",
              "</div>"
            ],
            "text/plain": [
              "  neighbourhood_group  ... availability_365\n",
              "0            Brooklyn  ...         5.902633\n",
              "1           Manhattan  ...         5.874931\n",
              "2           Manhattan  ...         5.902633\n",
              "3            Brooklyn  ...         5.273000\n",
              "5           Manhattan  ...         4.867534\n",
              "\n",
              "[5 rows x 9 columns]"
            ]
          },
          "metadata": {
            "tags": []
          },
          "execution_count": 67
        }
      ]
    },
    {
      "cell_type": "code",
      "metadata": {
        "colab": {
          "base_uri": "https://localhost:8080/",
          "height": 556
        },
        "id": "NbftodzamnV0",
        "outputId": "2dcdfbea-20d5-4e4e-f6e6-bcf4f5180a47"
      },
      "source": [
        "#vizualization of distribuiton of all numerical values after log-transformation\n",
        "fig = plt.figure(figsize=(14,14))\n",
        "ax1 = fig.add_subplot(3, 3, 1)\n",
        "ax2 = fig.add_subplot(3, 3, 2)\n",
        "ax3 = fig.add_subplot(3, 3, 3)\n",
        "ax4 = fig.add_subplot(3, 3, 4)\n",
        "ax5 = fig.add_subplot(3, 3, 5)\n",
        "ax6 = fig.add_subplot(3, 3, 6)\n",
        "\n",
        "ax1.hist(data['price'], bins=30)\n",
        "ax1.set_ylabel('count')\n",
        "ax1.set_title('price')\n",
        "\n",
        "ax2.hist(data['minimum_nights'], bins=30)\n",
        "ax2.set_ylabel('count')\n",
        "ax2.set_title('minimum_nights')\n",
        "\n",
        "ax3.hist(data['number_of_reviews'], bins=20)\n",
        "ax3.set_ylabel('count')\n",
        "ax3.set_title('number_of_reviews')\n",
        "\n",
        "ax4.hist(data['reviews_per_month'], bins=30)\n",
        "ax4.set_ylabel('count')\n",
        "ax4.set_title('reviews_per_month')\n",
        "\n",
        "ax5.hist(data['calculated_host_listings_count'], bins=30)\n",
        "ax5.set_ylabel('count')\n",
        "ax5.set_title('calculated_host_listings_count')\n",
        "\n",
        "ax6.hist(data['availability_365'], bins=30)\n",
        "ax6.set_ylabel('count')\n",
        "ax6.set_title('availability_365')\n",
        "\n",
        "plt.show()\n"
      ],
      "execution_count": 68,
      "outputs": [
        {
          "output_type": "display_data",
          "data": {
            "image/png": "[encoded data removed]",
            "text/plain": [
              "<Figure size 1008x1008 with 6 Axes>"
            ]
          },
          "metadata": {
            "tags": [],
            "needs_background": "light"
          }
        }
      ]
    },
    {
      "cell_type": "code",
      "metadata": {
        "colab": {
          "base_uri": "https://localhost:8080/",
          "height": 592
        },
        "id": "cMsNr6Slmqoz",
        "outputId": "71a347f5-f287-42eb-d2af-38a704dd2ff2"
      },
      "source": [
        "#pearson correlation between features\n",
        "fig = plt.figure(figsize=(10,7))\n",
        "sns.heatmap(data.corr(), annot=True)"
      ],
      "execution_count": 69,
      "outputs": [
        {
          "output_type": "execute_result",
          "data": {
            "text/plain": [
              "<matplotlib.axes._subplots.AxesSubplot at 0x7f88656112b0>"
            ]
          },
          "metadata": {
            "tags": []
          },
          "execution_count": 69
        },
        {
          "output_type": "display_data",
          "data": {
            "image/png": "[encoded data removed]",
            "text/plain": [
              "<Figure size 720x504 with 2 Axes>"
            ]
          },
          "metadata": {
            "tags": [],
            "needs_background": "light"
          }
        }
      ]
    },
    {
      "cell_type": "code",
      "metadata": {
        "colab": {
          "base_uri": "https://localhost:8080/",
          "height": 514
        },
        "id": "7D_XElnmmvjC",
        "outputId": "3d9993c9-4754-4fa4-81ba-582485bdb4e5"
      },
      "source": [
        "#'neighbourhood_group' visualization\n",
        "fig = plt.figure(figsize=(10,7))\n",
        "sns.countplot(data['neighbourhood_group'])"
      ],
      "execution_count": 70,
      "outputs": [
        {
          "output_type": "stream",
          "text": [
            "/usr/local/lib/python3.6/dist-packages/seaborn/_decorators.py:43: FutureWarning: Pass the following variable as a keyword arg: x. From version 0.12, the only valid positional argument will be `data`, and passing other arguments without an explicit keyword will result in an error or misinterpretation.\n",
            "  FutureWarning\n"
          ],
          "name": "stderr"
        },
        {
          "output_type": "execute_result",
          "data": {
            "text/plain": [
              "<matplotlib.axes._subplots.AxesSubplot at 0x7f886db42c18>"
            ]
          },
          "metadata": {
            "tags": []
          },
          "execution_count": 70
        },
        {
          "output_type": "display_data",
          "data": {
            "image/png": "[encoded data removed]",
            "text/plain": [
              "<Figure size 720x504 with 1 Axes>"
            ]
          },
          "metadata": {
            "tags": [],
            "needs_background": "light"
          }
        }
      ]
    },
    {
      "cell_type": "code",
      "metadata": {
        "colab": {
          "base_uri": "https://localhost:8080/"
        },
        "id": "DXD_6jgym5EN",
        "outputId": "25bb62c2-1412-49ed-fa0c-e1485f816399"
      },
      "source": [
        "#this feature are categorical and we have to trasnform it to numerical\n",
        "data['neighbourhood_group'].unique()"
      ],
      "execution_count": 71,
      "outputs": [
        {
          "output_type": "execute_result",
          "data": {
            "text/plain": [
              "array(['Brooklyn', 'Manhattan', 'Queens', 'Staten Island', 'Bronx'],\n",
              "      dtype=object)"
            ]
          },
          "metadata": {
            "tags": []
          },
          "execution_count": 71
        }
      ]
    },
    {
      "cell_type": "code",
      "metadata": {
        "colab": {
          "base_uri": "https://localhost:8080/"
        },
        "id": "4pmvcFlsm7vN",
        "outputId": "d42f224a-c28c-4df0-9cd5-273531288224"
      },
      "source": [
        "#we show this feature as ordinal because each value is different, \n",
        "#so we can encode it by defining the highest and lowest values for the highest and lowest frequencies respectively\n",
        "data['neighbourhood_group'].replace({'Staten Island': 1, 'Bronx':2,'Queens':3, 'Brooklyn':4, 'Manhattan':5}, inplace=True)\n",
        "data['neighbourhood_group'].unique()"
      ],
      "execution_count": 72,
      "outputs": [
        {
          "output_type": "execute_result",
          "data": {
            "text/plain": [
              "array([4, 5, 3, 1, 2])"
            ]
          },
          "metadata": {
            "tags": []
          },
          "execution_count": 72
        }
      ]
    },
    {
      "cell_type": "code",
      "metadata": {
        "colab": {
          "base_uri": "https://localhost:8080/",
          "height": 326
        },
        "id": "eALRlnm5m9v0",
        "outputId": "b5f6cdf0-c271-45a6-bd25-5dabdc0688a5"
      },
      "source": [
        "#we have to do one-hot encoding for 'room_type' feature\n",
        "dummy_room_types=pd.get_dummies(data['room_type'])\n",
        "data=pd.concat([data, dummy_room_types], axis=1)\n",
        "data.head()"
      ],
      "execution_count": 73,
      "outputs": [
        {
          "output_type": "execute_result",
          "data": {
            "text/html": [
              "<div>\n",
              "<style scoped>\n",
              "    .dataframe tbody tr th:only-of-type {\n",
              "        vertical-align: middle;\n",
              "    }\n",
              "\n",
              "    .dataframe tbody tr th {\n",
              "        vertical-align: top;\n",
              "    }\n",
              "\n",
              "    .dataframe thead th {\n",
              "        text-align: right;\n",
              "    }\n",
              "</style>\n",
              "<table border=\"1\" class=\"dataframe\">\n",
              "  <thead>\n",
              "    <tr style=\"text-align: right;\">\n",
              "      <th></th>\n",
              "      <th>neighbourhood_group</th>\n",
              "      <th>neighbourhood</th>\n",
              "      <th>room_type</th>\n",
              "      <th>price</th>\n",
              "      <th>minimum_nights</th>\n",
              "      <th>number_of_reviews</th>\n",
              "      <th>reviews_per_month</th>\n",
              "      <th>calculated_host_listings_count</th>\n",
              "      <th>availability_365</th>\n",
              "      <th>Entire home/apt</th>\n",
              "      <th>Private room</th>\n",
              "      <th>Shared room</th>\n",
              "    </tr>\n",
              "  </thead>\n",
              "  <tbody>\n",
              "    <tr>\n",
              "      <th>0</th>\n",
              "      <td>4</td>\n",
              "      <td>Kensington</td>\n",
              "      <td>Private room</td>\n",
              "      <td>5.010635</td>\n",
              "      <td>0.693147</td>\n",
              "      <td>2.302585</td>\n",
              "      <td>0.000000</td>\n",
              "      <td>1.945910</td>\n",
              "      <td>5.902633</td>\n",
              "      <td>0</td>\n",
              "      <td>1</td>\n",
              "      <td>0</td>\n",
              "    </tr>\n",
              "    <tr>\n",
              "      <th>1</th>\n",
              "      <td>5</td>\n",
              "      <td>Midtown</td>\n",
              "      <td>Entire home/apt</td>\n",
              "      <td>5.420535</td>\n",
              "      <td>0.693147</td>\n",
              "      <td>3.828641</td>\n",
              "      <td>0.000000</td>\n",
              "      <td>1.098612</td>\n",
              "      <td>5.874931</td>\n",
              "      <td>1</td>\n",
              "      <td>0</td>\n",
              "      <td>0</td>\n",
              "    </tr>\n",
              "    <tr>\n",
              "      <th>2</th>\n",
              "      <td>5</td>\n",
              "      <td>Harlem</td>\n",
              "      <td>Private room</td>\n",
              "      <td>5.017280</td>\n",
              "      <td>1.386294</td>\n",
              "      <td>0.000000</td>\n",
              "      <td>0.000000</td>\n",
              "      <td>0.693147</td>\n",
              "      <td>5.902633</td>\n",
              "      <td>0</td>\n",
              "      <td>1</td>\n",
              "      <td>0</td>\n",
              "    </tr>\n",
              "    <tr>\n",
              "      <th>3</th>\n",
              "      <td>4</td>\n",
              "      <td>Clinton Hill</td>\n",
              "      <td>Entire home/apt</td>\n",
              "      <td>4.499810</td>\n",
              "      <td>0.693147</td>\n",
              "      <td>5.602119</td>\n",
              "      <td>1.609438</td>\n",
              "      <td>0.693147</td>\n",
              "      <td>5.273000</td>\n",
              "      <td>1</td>\n",
              "      <td>0</td>\n",
              "      <td>0</td>\n",
              "    </tr>\n",
              "    <tr>\n",
              "      <th>5</th>\n",
              "      <td>5</td>\n",
              "      <td>Murray Hill</td>\n",
              "      <td>Entire home/apt</td>\n",
              "      <td>5.303305</td>\n",
              "      <td>1.386294</td>\n",
              "      <td>4.317488</td>\n",
              "      <td>0.000000</td>\n",
              "      <td>0.693147</td>\n",
              "      <td>4.867534</td>\n",
              "      <td>1</td>\n",
              "      <td>0</td>\n",
              "      <td>0</td>\n",
              "    </tr>\n",
              "  </tbody>\n",
              "</table>\n",
              "</div>"
            ],
            "text/plain": [
              "   neighbourhood_group neighbourhood  ... Private room  Shared room\n",
              "0                    4    Kensington  ...            1            0\n",
              "1                    5       Midtown  ...            0            0\n",
              "2                    5        Harlem  ...            1            0\n",
              "3                    4  Clinton Hill  ...            0            0\n",
              "5                    5   Murray Hill  ...            0            0\n",
              "\n",
              "[5 rows x 12 columns]"
            ]
          },
          "metadata": {
            "tags": []
          },
          "execution_count": 73
        }
      ]
    },
    {
      "cell_type": "code",
      "metadata": {
        "id": "Wb2NsWyFnBU7"
      },
      "source": [
        "data.drop(['room_type'], axis=1, inplace=True)"
      ],
      "execution_count": 74,
      "outputs": []
    },
    {
      "cell_type": "code",
      "metadata": {
        "colab": {
          "base_uri": "https://localhost:8080/"
        },
        "id": "uw3Ejc8pnEaK",
        "outputId": "1785225b-bb30-42d3-a293-2523795bc7c2"
      },
      "source": [
        "#we have to do nominal encoding for 'neighbourhood' feature\n",
        "from sklearn.preprocessing import LabelEncoder\n",
        "encoder=LabelEncoder()\n",
        "data['neighbourhood']=encoder.fit_transform(data['neighbourhood'])\n",
        "data['neighbourhood'].unique()"
      ],
      "execution_count": 75,
      "outputs": [
        {
          "output_type": "execute_result",
          "data": {
            "text/plain": [
              "array([106, 125,  92,  40, 135,  93,  34, 199, 179, 211,  79,  33,  50,\n",
              "        60, 148,  12, 213, 101,  63,  89,  27,  73, 117, 156, 115, 110,\n",
              "       175, 198, 155, 203, 216,  30, 206,  83,  75,  76,  18, 186,  52,\n",
              "       183,  94, 163, 128, 103, 123, 141,  53,  42,  74, 166,  90,  59,\n",
              "       191,   4,  38,  64, 113, 109,  24, 195, 157, 165,  78, 142, 215,\n",
              "       197,  84,   0,  62, 188,  47, 172,  69,  80,  16, 194, 173,  46,\n",
              "        67, 187,  22, 102,  51,   2,  72, 202,  39,   7,  85, 181, 184,\n",
              "       147,  44,  21, 132, 116,  29,  36,  58, 140, 129, 160,   3,  87,\n",
              "        28, 192, 120,  45,  19,  10,  56, 152,  71, 107, 126,  43, 133,\n",
              "        82, 159, 161,  14, 182, 121,   6, 210, 176, 214,  41,  35, 143,\n",
              "        57, 164, 108,   8, 144,  37, 209,  77,  11, 136,  25, 201,  68,\n",
              "        81, 134, 112, 180,  97,  13, 104, 200, 204,  70, 178,  49,  88,\n",
              "       118,  32, 185,  61, 100, 137, 150, 158, 189, 205, 174, 111,  96,\n",
              "       151, 149, 168,  66, 138,   9,  23, 119, 122,  17, 162, 193,  98,\n",
              "       170,  48, 177,   5, 124, 145,  31,  95, 130,  55,  99,  65,  54,\n",
              "        86, 153, 208, 131, 207, 114, 167, 196, 127,  15,   1, 146,  91,\n",
              "       169,  20, 154, 212, 139,  26, 190, 105, 171])"
            ]
          },
          "metadata": {
            "tags": []
          },
          "execution_count": 75
        }
      ]
    },
    {
      "cell_type": "code",
      "metadata": {
        "colab": {
          "base_uri": "https://localhost:8080/",
          "height": 241
        },
        "id": "mprzOnGSnHYg",
        "outputId": "bf10e7ee-1c14-43a3-bf29-1d91c36ddaac"
      },
      "source": [
        "data.head()"
      ],
      "execution_count": 76,
      "outputs": [
        {
          "output_type": "execute_result",
          "data": {
            "text/html": [
              "<div>\n",
              "<style scoped>\n",
              "    .dataframe tbody tr th:only-of-type {\n",
              "        vertical-align: middle;\n",
              "    }\n",
              "\n",
              "    .dataframe tbody tr th {\n",
              "        vertical-align: top;\n",
              "    }\n",
              "\n",
              "    .dataframe thead th {\n",
              "        text-align: right;\n",
              "    }\n",
              "</style>\n",
              "<table border=\"1\" class=\"dataframe\">\n",
              "  <thead>\n",
              "    <tr style=\"text-align: right;\">\n",
              "      <th></th>\n",
              "      <th>neighbourhood_group</th>\n",
              "      <th>neighbourhood</th>\n",
              "      <th>price</th>\n",
              "      <th>minimum_nights</th>\n",
              "      <th>number_of_reviews</th>\n",
              "      <th>reviews_per_month</th>\n",
              "      <th>calculated_host_listings_count</th>\n",
              "      <th>availability_365</th>\n",
              "      <th>Entire home/apt</th>\n",
              "      <th>Private room</th>\n",
              "      <th>Shared room</th>\n",
              "    </tr>\n",
              "  </thead>\n",
              "  <tbody>\n",
              "    <tr>\n",
              "      <th>0</th>\n",
              "      <td>4</td>\n",
              "      <td>106</td>\n",
              "      <td>5.010635</td>\n",
              "      <td>0.693147</td>\n",
              "      <td>2.302585</td>\n",
              "      <td>0.000000</td>\n",
              "      <td>1.945910</td>\n",
              "      <td>5.902633</td>\n",
              "      <td>0</td>\n",
              "      <td>1</td>\n",
              "      <td>0</td>\n",
              "    </tr>\n",
              "    <tr>\n",
              "      <th>1</th>\n",
              "      <td>5</td>\n",
              "      <td>125</td>\n",
              "      <td>5.420535</td>\n",
              "      <td>0.693147</td>\n",
              "      <td>3.828641</td>\n",
              "      <td>0.000000</td>\n",
              "      <td>1.098612</td>\n",
              "      <td>5.874931</td>\n",
              "      <td>1</td>\n",
              "      <td>0</td>\n",
              "      <td>0</td>\n",
              "    </tr>\n",
              "    <tr>\n",
              "      <th>2</th>\n",
              "      <td>5</td>\n",
              "      <td>92</td>\n",
              "      <td>5.017280</td>\n",
              "      <td>1.386294</td>\n",
              "      <td>0.000000</td>\n",
              "      <td>0.000000</td>\n",
              "      <td>0.693147</td>\n",
              "      <td>5.902633</td>\n",
              "      <td>0</td>\n",
              "      <td>1</td>\n",
              "      <td>0</td>\n",
              "    </tr>\n",
              "    <tr>\n",
              "      <th>3</th>\n",
              "      <td>4</td>\n",
              "      <td>40</td>\n",
              "      <td>4.499810</td>\n",
              "      <td>0.693147</td>\n",
              "      <td>5.602119</td>\n",
              "      <td>1.609438</td>\n",
              "      <td>0.693147</td>\n",
              "      <td>5.273000</td>\n",
              "      <td>1</td>\n",
              "      <td>0</td>\n",
              "      <td>0</td>\n",
              "    </tr>\n",
              "    <tr>\n",
              "      <th>5</th>\n",
              "      <td>5</td>\n",
              "      <td>135</td>\n",
              "      <td>5.303305</td>\n",
              "      <td>1.386294</td>\n",
              "      <td>4.317488</td>\n",
              "      <td>0.000000</td>\n",
              "      <td>0.693147</td>\n",
              "      <td>4.867534</td>\n",
              "      <td>1</td>\n",
              "      <td>0</td>\n",
              "      <td>0</td>\n",
              "    </tr>\n",
              "  </tbody>\n",
              "</table>\n",
              "</div>"
            ],
            "text/plain": [
              "   neighbourhood_group  neighbourhood  ...  Private room  Shared room\n",
              "0                    4            106  ...             1            0\n",
              "1                    5            125  ...             0            0\n",
              "2                    5             92  ...             1            0\n",
              "3                    4             40  ...             0            0\n",
              "5                    5            135  ...             0            0\n",
              "\n",
              "[5 rows x 11 columns]"
            ]
          },
          "metadata": {
            "tags": []
          },
          "execution_count": 76
        }
      ]
    },
    {
      "cell_type": "code",
      "metadata": {
        "colab": {
          "base_uri": "https://localhost:8080/"
        },
        "id": "8WgmIqdBnKqi",
        "outputId": "0f7bd4a7-7835-43a8-da0b-9574c9b52ce7"
      },
      "source": [
        "data.info()"
      ],
      "execution_count": 77,
      "outputs": [
        {
          "output_type": "stream",
          "text": [
            "<class 'pandas.core.frame.DataFrame'>\n",
            "Int64Index: 30518 entries, 0 to 48894\n",
            "Data columns (total 11 columns):\n",
            " #   Column                          Non-Null Count  Dtype  \n",
            "---  ------                          --------------  -----  \n",
            " 0   neighbourhood_group             30518 non-null  int64  \n",
            " 1   neighbourhood                   30518 non-null  int64  \n",
            " 2   price                           30518 non-null  float64\n",
            " 3   minimum_nights                  30518 non-null  float64\n",
            " 4   number_of_reviews               30518 non-null  float64\n",
            " 5   reviews_per_month               30518 non-null  float64\n",
            " 6   calculated_host_listings_count  30518 non-null  float64\n",
            " 7   availability_365                30518 non-null  float64\n",
            " 8   Entire home/apt                 30518 non-null  uint8  \n",
            " 9   Private room                    30518 non-null  uint8  \n",
            " 10  Shared room                     30518 non-null  uint8  \n",
            "dtypes: float64(6), int64(2), uint8(3)\n",
            "memory usage: 3.4 MB\n"
          ],
          "name": "stdout"
        }
      ]
    },
    {
      "cell_type": "code",
      "metadata": {
        "id": "v_XE9j5vnNV7"
      },
      "source": [
        "#setting input and output features\n",
        "X=data.drop(['price'], axis=1)\n",
        "y=data['price']"
      ],
      "execution_count": 78,
      "outputs": []
    },
    {
      "cell_type": "code",
      "metadata": {
        "id": "uOv6TxbDnP-c"
      },
      "source": [
        "from sklearn.preprocessing import StandardScaler"
      ],
      "execution_count": 79,
      "outputs": []
    },
    {
      "cell_type": "code",
      "metadata": {
        "id": "jhrK9FQ1nS8R"
      },
      "source": [
        "#input feature scaling \n",
        "X=StandardScaler().fit_transform(X)"
      ],
      "execution_count": 80,
      "outputs": []
    },
    {
      "cell_type": "code",
      "metadata": {
        "id": "EhAv4_C8nV3e"
      },
      "source": [
        "from sklearn.model_selection import train_test_split"
      ],
      "execution_count": 81,
      "outputs": []
    },
    {
      "cell_type": "code",
      "metadata": {
        "id": "vBQp3tyTnXxZ"
      },
      "source": [
        "#splitting data into train and test parts\n",
        "X_train, X_test, y_train, y_test=train_test_split(X, y, test_size = 0.3, random_state = 0) "
      ],
      "execution_count": 82,
      "outputs": []
    },
    {
      "cell_type": "code",
      "metadata": {
        "id": "7T8V2TSpn0a6"
      },
      "source": [
        "#importing modules for modeling\n",
        "from sklearn.linear_model import LinearRegression, Ridge, Lasso, ElasticNet, HuberRegressor\n",
        "from sklearn.tree import DecisionTreeRegressor\n",
        "from sklearn.ensemble import GradientBoostingRegressor\n",
        "from sklearn.model_selection import KFold\n",
        "from sklearn.model_selection import GridSearchCV"
      ],
      "execution_count": 87,
      "outputs": []
    },
    {
      "cell_type": "code",
      "metadata": {
        "id": "xMfpsIhan6qL"
      },
      "source": [
        "#linear regression\n",
        "LinearRegression_model=LinearRegression()\n",
        "cv = KFold(n_splits=10, shuffle=True, random_state=1)\n",
        "fit_intercept = [True,False]\n",
        "normalize=[True,False]\n",
        "copy_X = [True,False]\n",
        "hyperparameters = dict(fit_intercept=fit_intercept, normalize=normalize,copy_X=copy_X)\n",
        "LinearRegression_Search = GridSearchCV(LinearRegression_model, hyperparameters, cv=cv, verbose=0, n_jobs=-1, scoring='r2')\n",
        "LinearRegression_Best_model = LinearRegression_Search.fit(X_train, y_train)"
      ],
      "execution_count": 88,
      "outputs": []
    },
    {
      "cell_type": "code",
      "metadata": {
        "id": "m6xqKujwn-Ap"
      },
      "source": [
        "#Ridge Regression\n",
        "RidgeRegression_model=Ridge()\n",
        "cv = KFold(n_splits=10, shuffle=True, random_state=1)\n",
        "alphas = [1,0.1,0.01,0.001,0.0001,0]\n",
        "normalize=[True,False]\n",
        "hyperparameters = dict(alpha=alphas, normalize=normalize)\n",
        "RidgeRegression_Search = GridSearchCV(RidgeRegression_model, hyperparameters, cv=cv, verbose=0, n_jobs=-1, scoring='r2')\n",
        "RidgeRegression_Best_model = RidgeRegression_Search.fit(X_train, y_train)"
      ],
      "execution_count": 89,
      "outputs": []
    },
    {
      "cell_type": "code",
      "metadata": {
        "id": "A_7P3byWoBwn"
      },
      "source": [
        "#Lasso Regression\n",
        "LassoRegression_model=Lasso()\n",
        "cv = KFold(n_splits=10, shuffle=True, random_state=1)\n",
        "alphas = [0.0001, 0.001, 0.005,0.01, 0.05, 0.1, 0.3, 1]\n",
        "normalize=[True,False]\n",
        "hyperparameters = dict(alpha=alphas, normalize=normalize)\n",
        "LassoRegression_Search = GridSearchCV(LassoRegression_model, hyperparameters, cv=cv, verbose=0, n_jobs=-1, scoring='r2')\n",
        "LassoRegression_Best_model = LassoRegression_Search.fit(X_train, y_train)"
      ],
      "execution_count": 90,
      "outputs": []
    },
    {
      "cell_type": "code",
      "metadata": {
        "colab": {
          "base_uri": "https://localhost:8080/"
        },
        "id": "iSYyHorToIN-",
        "outputId": "ca536aa4-6597-438e-ebb0-74c8d530226f"
      },
      "source": [
        "#Elastic Net Regression\n",
        "ElasticNetRegression_model=ElasticNet()\n",
        "cv = KFold(n_splits=10, shuffle=True, random_state=1)\n",
        "alphas= [1,0.1,0.01,0.001,0.0001,0]\n",
        "normalize=[True,False]\n",
        "hyperparameters = dict(alpha=alphas, normalize=normalize)\n",
        "ElasticNetRegression_Search = GridSearchCV(ElasticNetRegression_model, hyperparameters, cv=cv, verbose=0, n_jobs=-1, scoring='r2')\n",
        "ElasticNetRegression_Best_model = ElasticNetRegression_Search.fit(X_train, y_train)"
      ],
      "execution_count": 91,
      "outputs": [
        {
          "output_type": "stream",
          "text": [
            "/usr/local/lib/python3.6/dist-packages/sklearn/model_selection/_search.py:739: UserWarning: With alpha=0, this algorithm does not converge well. You are advised to use the LinearRegression estimator\n",
            "  self.best_estimator_.fit(X, y, **fit_params)\n",
            "/usr/local/lib/python3.6/dist-packages/sklearn/linear_model/_coordinate_descent.py:476: UserWarning: Coordinate descent with no regularization may lead to unexpected results and is discouraged.\n",
            "  positive)\n",
            "/usr/local/lib/python3.6/dist-packages/sklearn/linear_model/_coordinate_descent.py:476: ConvergenceWarning: Objective did not converge. You might want to increase the number of iterations. Duality gap: 1932.8336140018087, tolerance: 0.8603685640805767\n",
            "  positive)\n"
          ],
          "name": "stderr"
        }
      ]
    },
    {
      "cell_type": "code",
      "metadata": {
        "id": "c9816w1boM7L"
      },
      "source": [
        "#Huber Regression\n",
        "HuberRegression_model=HuberRegressor()\n",
        "cv = KFold(n_splits=10, shuffle=True, random_state=1)\n",
        "alphas = [0.0001, 0.001, 0.005,0.01, 0.05, 0.1, 0.3, 1]\n",
        "hyperparameters = dict(alpha=alphas)\n",
        "HuberRegression_Search = GridSearchCV(HuberRegression_model, hyperparameters, cv=cv, verbose=0, n_jobs=-1, scoring='r2')\n",
        "HuberRegression_Best_model = HuberRegression_Search.fit(X_train, y_train)"
      ],
      "execution_count": 92,
      "outputs": []
    },
    {
      "cell_type": "code",
      "metadata": {
        "id": "O4sNQk2C2pkX"
      },
      "source": [
        "#here we have to use RandomizedSearch for hyperparameter tuning because GridSearch is very slow\n",
        "from sklearn.model_selection import RandomizedSearchCV"
      ],
      "execution_count": 93,
      "outputs": []
    },
    {
      "cell_type": "code",
      "metadata": {
        "id": "UjsH4ydAobUp",
        "colab": {
          "base_uri": "https://localhost:8080/"
        },
        "outputId": "e57bbcac-96aa-4f68-95e2-0a5c1901241f"
      },
      "source": [
        "#Gradient Boosting Regressor\n",
        "Gradient_Boosting_Regression_model=GradientBoostingRegressor()\n",
        "cv = KFold(n_splits=10, shuffle=True, random_state=1)\n",
        "learning_rate=[0.3, 1.0]\n",
        "max_depth=[1,6]\n",
        "hyperparameters=dict(learning_rate=learning_rate,max_depth=max_depth)\n",
        "Gradient_Boosting_Regression_Search = RandomizedSearchCV(Gradient_Boosting_Regression_model, hyperparameters, cv=cv, verbose=0, n_jobs=-1, scoring='r2')\n",
        "Gradient_Boosting_Regression_Best_model = Gradient_Boosting_Regression_Search.fit(X_train, y_train)"
      ],
      "execution_count": 98,
      "outputs": [
        {
          "output_type": "stream",
          "text": [
            "/usr/local/lib/python3.6/dist-packages/sklearn/model_selection/_search.py:281: UserWarning: The total space of parameters 4 is smaller than n_iter=10. Running 4 iterations. For exhaustive searches, use GridSearchCV.\n",
            "  % (grid_size, self.n_iter, grid_size), UserWarning)\n"
          ],
          "name": "stderr"
        }
      ]
    },
    {
      "cell_type": "code",
      "metadata": {
        "id": "-52SnHyc8yDh"
      },
      "source": [
        "#metric score (coefficient of determination)\n",
        "from sklearn.metrics import r2_score\n"
      ],
      "execution_count": 100,
      "outputs": []
    },
    {
      "cell_type": "code",
      "metadata": {
        "id": "r8eBCV1f889O"
      },
      "source": [
        "Linear_y_pred=LinearRegression_Best_model.predict(X_test)"
      ],
      "execution_count": 101,
      "outputs": []
    },
    {
      "cell_type": "code",
      "metadata": {
        "id": "tIj10JVz9lO3"
      },
      "source": [
        "Ridge_y_pred=RidgeRegression_Best_model.predict(X_test)"
      ],
      "execution_count": 102,
      "outputs": []
    },
    {
      "cell_type": "code",
      "metadata": {
        "id": "rR11IOmj9wjn"
      },
      "source": [
        "Lasso_y_pred=LassoRegression_Best_model.predict(X_test)"
      ],
      "execution_count": 103,
      "outputs": []
    },
    {
      "cell_type": "code",
      "metadata": {
        "id": "RwGmSWiF98HR"
      },
      "source": [
        "Elastic_net_y_pred=ElasticNetRegression_Best_model.predict(X_test) "
      ],
      "execution_count": 104,
      "outputs": []
    },
    {
      "cell_type": "code",
      "metadata": {
        "id": "iE5hL_Gb-F9G"
      },
      "source": [
        "Huber_y_pred=HuberRegression_Best_model.predict(X_test)"
      ],
      "execution_count": 105,
      "outputs": []
    },
    {
      "cell_type": "code",
      "metadata": {
        "id": "MkfnEonC-ObS"
      },
      "source": [
        "Gradient_boost_y_pred=Gradient_Boosting_Regression_Best_model.predict(X_test)"
      ],
      "execution_count": 106,
      "outputs": []
    },
    {
      "cell_type": "code",
      "metadata": {
        "id": "q_3l4hWW-lCr"
      },
      "source": [
        "Linear_y_pred_r2=r2_score(y_test, Linear_y_pred)\n",
        "Ridge_y_pred_r2=r2_score(y_test, Ridge_y_pred)\n",
        "Lasso_y_pred_r2=r2_score(y_test, Lasso_y_pred)\n",
        "Elastic_net_r2=r2_score(y_test, Elastic_net_y_pred)\n",
        "Huber_y_pred_r2=r2_score(y_test, Huber_y_pred)\n",
        "Gradient_boost_y_pred_r2=r2_score(y_test, Gradient_boost_y_pred)"
      ],
      "execution_count": 108,
      "outputs": []
    },
    {
      "cell_type": "code",
      "metadata": {
        "colab": {
          "base_uri": "https://localhost:8080/"
        },
        "id": "kqBsvVJV_fH_",
        "outputId": "17ad9215-f0ea-4aa5-9f35-c76a7c57a8c3"
      },
      "source": [
        "#coefficient of determination of all models\n",
        "print(Linear_y_pred_r2, Ridge_y_pred_r2, Lasso_y_pred_r2, Elastic_net_r2, Huber_y_pred_r2, Gradient_boost_y_pred_r2)"
      ],
      "execution_count": 110,
      "outputs": [
        {
          "output_type": "stream",
          "text": [
            "0.5489169212876459 0.5486294498769189 0.5489239363843013 0.5489169212876459 0.546716505185573 0.6433080209893929\n"
          ],
          "name": "stdout"
        }
      ]
    },
    {
      "cell_type": "code",
      "metadata": {
        "id": "mnWKDAnMGQb5"
      },
      "source": [
        "#as we see Gradient Boosting is our best model (0.6433080209893929 r2 score)"
      ],
      "execution_count": null,
      "outputs": []
    }
  ]
}